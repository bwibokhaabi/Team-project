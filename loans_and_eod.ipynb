{
 "cells": [
  {
   "cell_type": "markdown",
   "metadata": {},
   "source": [
    "\n",
    "Objective: Segment Equity bank customers into clusters and get profiles of each cluster.\n",
    "\n",
    "Data:\n",
    "\n",
    "1. Transaction\n",
    "2. Demographics\n",
    "3. End of day Balance\n",
    "4. Loans\n",
    "\n",
    "Steps:\n",
    "\n",
    "1. Feature Extraction\n",
    "2. Data cleaning\n",
    "3. EDA\n",
    "4. Preprocessing\n",
    "5. Clustering using k-means\n",
    "6. EDA to determine profiles per cluster"
   ]
  },
  {
   "cell_type": "code",
   "execution_count": 4,
   "metadata": {},
   "outputs": [],
   "source": [
    "import re\n",
    "import time\n",
    "import sys\n",
    "import os\n",
    "import time\n",
    "import calendar\n",
    "\n",
    "import numpy as np\n",
    "import pandas as pd\n",
    "import seaborn as sns\n",
    "import matplotlib\n",
    "import matplotlib.pyplot as plt\n",
    "from itertools import islice\n",
    "from configparser import ConfigParser\n",
    "from datetime import date, timedelta\n",
    "from dateutil.relativedelta import relativedelta"
   ]
  },
  {
   "cell_type": "code",
   "execution_count": 5,
   "metadata": {},
   "outputs": [],
   "source": [
    "from sklearn.preprocessing import StandardScaler, normalize\n",
    "from sklearn import decomposition\n",
    "from sklearn import metrics\n",
    "from sklearn.preprocessing import LabelEncoder\n",
    "from sklearn.cluster import KMeans \n",
    "import matplotlib.pyplot as plt"
   ]
  },
  {
   "cell_type": "code",
   "execution_count": 6,
   "metadata": {},
   "outputs": [],
   "source": [
    "import warnings\n",
    "warnings.filterwarnings('ignore')"
   ]
  },
  {
   "cell_type": "markdown",
   "metadata": {},
   "source": [
    "# Feature Extraction"
   ]
  },
  {
   "cell_type": "code",
   "execution_count": 7,
   "metadata": {},
   "outputs": [],
   "source": [
    "end_date = date(2021,12,31)"
   ]
  },
  {
   "cell_type": "code",
   "execution_count": null,
   "metadata": {},
   "outputs": [],
   "source": []
  },
  {
   "cell_type": "code",
   "execution_count": 10,
   "metadata": {},
   "outputs": [
    {
     "name": "stdout",
     "output_type": "stream",
     "text": [
      "202012\n",
      "202101\n",
      "202102\n",
      "202103\n",
      "202104\n",
      "202105\n",
      "202106\n",
      "202107\n",
      "202108\n",
      "202109\n",
      "202110\n",
      "202111\n"
     ]
    }
   ],
   "source": [
    "date_range = pd.date_range(end=end_date, periods=12, freq='M')\n",
    "counter = 0\n",
    "eod_list = []\n",
    "for d in date_range:\n",
    "    i = d.strftime('%Y%m')\n",
    "    print(i)\n",
    "    df  = pd.read_csv(f\"C:/Users/kachase/Downloads/Clustering/Clustering/eod_data.csv\", low_memory=False, \n",
    "                     converters = {'CIF_ID': lambda x:str(x)})\n",
    "    eod_list.append(df)\n",
    "    \n",
    "eod = pd.concat(eod_list, ignore_index=True)"
   ]
  },
  {
   "cell_type": "code",
   "execution_count": 62,
   "metadata": {},
   "outputs": [],
   "source": [
    "eod_agg['CIF_ID'] = eod_agg['CIF_ID'].astype(str)"
   ]
  },
  {
   "cell_type": "code",
   "execution_count": 16,
   "metadata": {},
   "outputs": [
    {
     "data": {
      "text/html": [
       "<div>\n",
       "<style scoped>\n",
       "    .dataframe tbody tr th:only-of-type {\n",
       "        vertical-align: middle;\n",
       "    }\n",
       "\n",
       "    .dataframe tbody tr th {\n",
       "        vertical-align: top;\n",
       "    }\n",
       "\n",
       "    .dataframe thead th {\n",
       "        text-align: right;\n",
       "    }\n",
       "</style>\n",
       "<table border=\"1\" class=\"dataframe\">\n",
       "  <thead>\n",
       "    <tr style=\"text-align: right;\">\n",
       "      <th></th>\n",
       "      <th>CIF_ID</th>\n",
       "      <th>AVERAGE_MONTHLY_BALANCE</th>\n",
       "      <th>MAXIMUM_MONTHLY_BALANCE</th>\n",
       "      <th>MINIMUM_MONTHLY_BALANCE</th>\n",
       "    </tr>\n",
       "  </thead>\n",
       "  <tbody>\n",
       "    <tr>\n",
       "      <th>0</th>\n",
       "      <td>54100000028</td>\n",
       "      <td>1.040000</td>\n",
       "      <td>1.04</td>\n",
       "      <td>1.04</td>\n",
       "    </tr>\n",
       "    <tr>\n",
       "      <th>1</th>\n",
       "      <td>54200000006</td>\n",
       "      <td>88517.198387</td>\n",
       "      <td>362933.65</td>\n",
       "      <td>3193.65</td>\n",
       "    </tr>\n",
       "    <tr>\n",
       "      <th>2</th>\n",
       "      <td>54200000132</td>\n",
       "      <td>10934.564516</td>\n",
       "      <td>31374.00</td>\n",
       "      <td>6.00</td>\n",
       "    </tr>\n",
       "    <tr>\n",
       "      <th>3</th>\n",
       "      <td>54200000408</td>\n",
       "      <td>1006.119234</td>\n",
       "      <td>14067.51</td>\n",
       "      <td>0.00</td>\n",
       "    </tr>\n",
       "    <tr>\n",
       "      <th>4</th>\n",
       "      <td>54200000862</td>\n",
       "      <td>364285.400968</td>\n",
       "      <td>387254.03</td>\n",
       "      <td>343964.03</td>\n",
       "    </tr>\n",
       "  </tbody>\n",
       "</table>\n",
       "</div>"
      ],
      "text/plain": [
       "        CIF_ID  AVERAGE_MONTHLY_BALANCE  MAXIMUM_MONTHLY_BALANCE  \\\n",
       "0  54100000028                 1.040000                     1.04   \n",
       "1  54200000006             88517.198387                362933.65   \n",
       "2  54200000132             10934.564516                 31374.00   \n",
       "3  54200000408              1006.119234                 14067.51   \n",
       "4  54200000862            364285.400968                387254.03   \n",
       "\n",
       "   MINIMUM_MONTHLY_BALANCE  \n",
       "0                     1.04  \n",
       "1                  3193.65  \n",
       "2                     6.00  \n",
       "3                     0.00  \n",
       "4                343964.03  "
      ]
     },
     "execution_count": 16,
     "metadata": {},
     "output_type": "execute_result"
    }
   ],
   "source": [
    "df.head()"
   ]
  },
  {
   "cell_type": "code",
   "execution_count": 63,
   "metadata": {},
   "outputs": [
    {
     "data": {
      "text/html": [
       "<div>\n",
       "<style scoped>\n",
       "    .dataframe tbody tr th:only-of-type {\n",
       "        vertical-align: middle;\n",
       "    }\n",
       "\n",
       "    .dataframe tbody tr th {\n",
       "        vertical-align: top;\n",
       "    }\n",
       "\n",
       "    .dataframe thead th {\n",
       "        text-align: right;\n",
       "    }\n",
       "</style>\n",
       "<table border=\"1\" class=\"dataframe\">\n",
       "  <thead>\n",
       "    <tr style=\"text-align: right;\">\n",
       "      <th></th>\n",
       "      <th>CIF_ID</th>\n",
       "      <th>MONTHLY_AVG_BALANCE</th>\n",
       "      <th>STD_BALANCE</th>\n",
       "    </tr>\n",
       "  </thead>\n",
       "  <tbody>\n",
       "    <tr>\n",
       "      <th>0</th>\n",
       "      <td>54100000028</td>\n",
       "      <td>1.040000</td>\n",
       "      <td>0.0</td>\n",
       "    </tr>\n",
       "    <tr>\n",
       "      <th>1</th>\n",
       "      <td>54200000006</td>\n",
       "      <td>88517.198387</td>\n",
       "      <td>0.0</td>\n",
       "    </tr>\n",
       "    <tr>\n",
       "      <th>2</th>\n",
       "      <td>54200000132</td>\n",
       "      <td>10934.564516</td>\n",
       "      <td>0.0</td>\n",
       "    </tr>\n",
       "    <tr>\n",
       "      <th>3</th>\n",
       "      <td>54200000408</td>\n",
       "      <td>1006.119234</td>\n",
       "      <td>0.0</td>\n",
       "    </tr>\n",
       "    <tr>\n",
       "      <th>4</th>\n",
       "      <td>54200000862</td>\n",
       "      <td>364285.400968</td>\n",
       "      <td>0.0</td>\n",
       "    </tr>\n",
       "  </tbody>\n",
       "</table>\n",
       "</div>"
      ],
      "text/plain": [
       "        CIF_ID  MONTHLY_AVG_BALANCE  STD_BALANCE\n",
       "0  54100000028             1.040000          0.0\n",
       "1  54200000006         88517.198387          0.0\n",
       "2  54200000132         10934.564516          0.0\n",
       "3  54200000408          1006.119234          0.0\n",
       "4  54200000862        364285.400968          0.0"
      ]
     },
     "execution_count": 63,
     "metadata": {},
     "output_type": "execute_result"
    }
   ],
   "source": [
    "eod_agg = eod.groupby(['CIF_ID']).agg({'AVERAGE_MONTHLY_BALANCE':['mean','std']})\n",
    "eod_agg.columns = ['MONTHLY_AVG_BALANCE', 'STD_BALANCE']\n",
    "eod_agg.reset_index(inplace=True)\n",
    "eod_agg['CIF_ID'] = eod_agg['CIF_ID'].astype(str)\n",
    "\n",
    "eod_agg.head()"
   ]
  },
  {
   "cell_type": "code",
   "execution_count": null,
   "metadata": {},
   "outputs": [],
   "source": [
    "# eod_agg.to_csv(\"E:/data2/EGF/EOD/agg_eod.csv\", index=False)"
   ]
  },
  {
   "cell_type": "markdown",
   "metadata": {},
   "source": [
    "# CLEANING"
   ]
  },
  {
   "cell_type": "code",
   "execution_count": 18,
   "metadata": {},
   "outputs": [
    {
     "data": {
      "text/plain": [
       "199202"
      ]
     },
     "execution_count": 18,
     "metadata": {},
     "output_type": "execute_result"
    }
   ],
   "source": [
    "len(eod_agg)"
   ]
  },
  {
   "cell_type": "code",
   "execution_count": 19,
   "metadata": {},
   "outputs": [
    {
     "data": {
      "text/plain": [
       "199202"
      ]
     },
     "execution_count": 19,
     "metadata": {},
     "output_type": "execute_result"
    }
   ],
   "source": [
    "eod_agg.CIF_ID.nunique()"
   ]
  },
  {
   "cell_type": "code",
   "execution_count": 21,
   "metadata": {},
   "outputs": [
    {
     "data": {
      "text/plain": [
       "CIF_ID                 0\n",
       "MONTHLY_AVG_BALANCE    0\n",
       "STD_BALANCE            0\n",
       "dtype: int64"
      ]
     },
     "execution_count": 21,
     "metadata": {},
     "output_type": "execute_result"
    }
   ],
   "source": [
    "eod_agg.isnull().sum()"
   ]
  },
  {
   "cell_type": "code",
   "execution_count": 24,
   "metadata": {},
   "outputs": [],
   "source": [
    "# fill numerical null values with 0\n",
    "numerical_features = [ 'MONTHLY_AVG_BALANCE', 'STD_BALANCE']\n",
    "\n",
    "eod_agg[numerical_features] = eod_agg[numerical_features].fillna(0)"
   ]
  },
  {
   "cell_type": "markdown",
   "metadata": {},
   "source": [
    "# cleaning and feature extraction of transactional data"
   ]
  },
  {
   "cell_type": "code",
   "execution_count": null,
   "metadata": {},
   "outputs": [],
   "source": []
  },
  {
   "cell_type": "code",
   "execution_count": 27,
   "metadata": {},
   "outputs": [],
   "source": [
    "df = pd.read_csv(\"C:/Users/kachase/Downloads/Clustering/Clustering/transactiona_data.csv\")"
   ]
  },
  {
   "cell_type": "code",
   "execution_count": 28,
   "metadata": {},
   "outputs": [
    {
     "data": {
      "text/html": [
       "<div>\n",
       "<style scoped>\n",
       "    .dataframe tbody tr th:only-of-type {\n",
       "        vertical-align: middle;\n",
       "    }\n",
       "\n",
       "    .dataframe tbody tr th {\n",
       "        vertical-align: top;\n",
       "    }\n",
       "\n",
       "    .dataframe thead th {\n",
       "        text-align: right;\n",
       "    }\n",
       "</style>\n",
       "<table border=\"1\" class=\"dataframe\">\n",
       "  <thead>\n",
       "    <tr style=\"text-align: right;\">\n",
       "      <th></th>\n",
       "      <th>Unnamed: 0</th>\n",
       "      <th>CIF_NUM</th>\n",
       "      <th>NUMBER_OF_TRANSACTIONAL_ACCOUNTS</th>\n",
       "      <th>COUNT_OF_CREDITS</th>\n",
       "      <th>COUNT_OF_DEBITS</th>\n",
       "      <th>MAX_CREDIT_VALUE</th>\n",
       "      <th>MAX_DEBIT_VALUE</th>\n",
       "      <th>AVERAGE_MONTHLY_CREDIT</th>\n",
       "      <th>AVERAGE_MONTHLY_CREDIT_COUNT</th>\n",
       "      <th>AVERAGE_MONTHLY_DEBIT</th>\n",
       "      <th>AVERAGE_MONTHLY_DEBIT.1</th>\n",
       "      <th>MAX_DAY_CREDIT</th>\n",
       "      <th>MAX_DAY_DEBIT</th>\n",
       "    </tr>\n",
       "  </thead>\n",
       "  <tbody>\n",
       "    <tr>\n",
       "      <th>0</th>\n",
       "      <td>0</td>\n",
       "      <td>5.420000e+10</td>\n",
       "      <td>1</td>\n",
       "      <td>14.0</td>\n",
       "      <td>25.0</td>\n",
       "      <td>343000.0</td>\n",
       "      <td>220000.0</td>\n",
       "      <td>332050.00</td>\n",
       "      <td>1.750</td>\n",
       "      <td>355150.00</td>\n",
       "      <td>355150.00</td>\n",
       "      <td>2021-08-18</td>\n",
       "      <td>2021-08-28</td>\n",
       "    </tr>\n",
       "    <tr>\n",
       "      <th>1</th>\n",
       "      <td>1</td>\n",
       "      <td>5.420000e+10</td>\n",
       "      <td>1</td>\n",
       "      <td>8.0</td>\n",
       "      <td>10.0</td>\n",
       "      <td>5613.0</td>\n",
       "      <td>5190.0</td>\n",
       "      <td>5334.75</td>\n",
       "      <td>1.000</td>\n",
       "      <td>1406.25</td>\n",
       "      <td>1406.25</td>\n",
       "      <td>2021-08-24</td>\n",
       "      <td>2021-08-24</td>\n",
       "    </tr>\n",
       "    <tr>\n",
       "      <th>2</th>\n",
       "      <td>2</td>\n",
       "      <td>5.420000e+10</td>\n",
       "      <td>1</td>\n",
       "      <td>8.0</td>\n",
       "      <td>57.0</td>\n",
       "      <td>17952.0</td>\n",
       "      <td>10000.0</td>\n",
       "      <td>17063.00</td>\n",
       "      <td>1.000</td>\n",
       "      <td>15873.75</td>\n",
       "      <td>15873.75</td>\n",
       "      <td>2021-08-24</td>\n",
       "      <td>2021-08-30</td>\n",
       "    </tr>\n",
       "    <tr>\n",
       "      <th>3</th>\n",
       "      <td>3</td>\n",
       "      <td>5.420000e+10</td>\n",
       "      <td>1</td>\n",
       "      <td>8.0</td>\n",
       "      <td>8.0</td>\n",
       "      <td>5820.0</td>\n",
       "      <td>120.0</td>\n",
       "      <td>5531.25</td>\n",
       "      <td>1.000</td>\n",
       "      <td>120.00</td>\n",
       "      <td>120.00</td>\n",
       "      <td>2021-08-24</td>\n",
       "      <td>2021-08-24</td>\n",
       "    </tr>\n",
       "    <tr>\n",
       "      <th>4</th>\n",
       "      <td>4</td>\n",
       "      <td>5.420000e+10</td>\n",
       "      <td>2</td>\n",
       "      <td>3.0</td>\n",
       "      <td>3.0</td>\n",
       "      <td>14000.0</td>\n",
       "      <td>30000.0</td>\n",
       "      <td>4000.00</td>\n",
       "      <td>0.375</td>\n",
       "      <td>6500.00</td>\n",
       "      <td>6500.00</td>\n",
       "      <td>2021-08-18</td>\n",
       "      <td>2021-07-19</td>\n",
       "    </tr>\n",
       "  </tbody>\n",
       "</table>\n",
       "</div>"
      ],
      "text/plain": [
       "   Unnamed: 0       CIF_NUM  NUMBER_OF_TRANSACTIONAL_ACCOUNTS  \\\n",
       "0           0  5.420000e+10                                 1   \n",
       "1           1  5.420000e+10                                 1   \n",
       "2           2  5.420000e+10                                 1   \n",
       "3           3  5.420000e+10                                 1   \n",
       "4           4  5.420000e+10                                 2   \n",
       "\n",
       "   COUNT_OF_CREDITS  COUNT_OF_DEBITS  MAX_CREDIT_VALUE  MAX_DEBIT_VALUE  \\\n",
       "0              14.0             25.0          343000.0         220000.0   \n",
       "1               8.0             10.0            5613.0           5190.0   \n",
       "2               8.0             57.0           17952.0          10000.0   \n",
       "3               8.0              8.0            5820.0            120.0   \n",
       "4               3.0              3.0           14000.0          30000.0   \n",
       "\n",
       "   AVERAGE_MONTHLY_CREDIT  AVERAGE_MONTHLY_CREDIT_COUNT  \\\n",
       "0               332050.00                         1.750   \n",
       "1                 5334.75                         1.000   \n",
       "2                17063.00                         1.000   \n",
       "3                 5531.25                         1.000   \n",
       "4                 4000.00                         0.375   \n",
       "\n",
       "   AVERAGE_MONTHLY_DEBIT  AVERAGE_MONTHLY_DEBIT.1 MAX_DAY_CREDIT MAX_DAY_DEBIT  \n",
       "0              355150.00                355150.00     2021-08-18    2021-08-28  \n",
       "1                1406.25                  1406.25     2021-08-24    2021-08-24  \n",
       "2               15873.75                 15873.75     2021-08-24    2021-08-30  \n",
       "3                 120.00                   120.00     2021-08-24    2021-08-24  \n",
       "4                6500.00                  6500.00     2021-08-18    2021-07-19  "
      ]
     },
     "execution_count": 28,
     "metadata": {},
     "output_type": "execute_result"
    }
   ],
   "source": [
    "df.head()"
   ]
  },
  {
   "cell_type": "code",
   "execution_count": 64,
   "metadata": {},
   "outputs": [],
   "source": [
    "df.rename(columns = {'CIF_NUM':'CIF_ID'}, inplace = True)"
   ]
  },
  {
   "cell_type": "code",
   "execution_count": 65,
   "metadata": {},
   "outputs": [],
   "source": [
    "df['CIF_ID'] = df['CIF_ID'].astype(str)"
   ]
  },
  {
   "cell_type": "code",
   "execution_count": 67,
   "metadata": {},
   "outputs": [
    {
     "data": {
      "text/html": [
       "<div>\n",
       "<style scoped>\n",
       "    .dataframe tbody tr th:only-of-type {\n",
       "        vertical-align: middle;\n",
       "    }\n",
       "\n",
       "    .dataframe tbody tr th {\n",
       "        vertical-align: top;\n",
       "    }\n",
       "\n",
       "    .dataframe thead th {\n",
       "        text-align: right;\n",
       "    }\n",
       "</style>\n",
       "<table border=\"1\" class=\"dataframe\">\n",
       "  <thead>\n",
       "    <tr style=\"text-align: right;\">\n",
       "      <th></th>\n",
       "      <th>CIF_ID</th>\n",
       "      <th>NUMBER_OF_TRANSACTIONAL_ACCOUNTS</th>\n",
       "      <th>COUNT_OF_CREDITS</th>\n",
       "      <th>COUNT_OF_DEBITS</th>\n",
       "      <th>MAX_CREDIT_VALUE</th>\n",
       "      <th>MAX_DEBIT_VALUE</th>\n",
       "      <th>AVERAGE_MONTHLY_CREDIT</th>\n",
       "      <th>AVERAGE_MONTHLY_CREDIT_COUNT</th>\n",
       "      <th>AVERAGE_MONTHLY_DEBIT</th>\n",
       "      <th>AVERAGE_MONTHLY_DEBIT.1</th>\n",
       "      <th>MAX_DAY_CREDIT</th>\n",
       "      <th>MAX_DAY_DEBIT</th>\n",
       "    </tr>\n",
       "  </thead>\n",
       "  <tbody>\n",
       "    <tr>\n",
       "      <th>0</th>\n",
       "      <td>54200000006.0</td>\n",
       "      <td>1</td>\n",
       "      <td>14.0</td>\n",
       "      <td>25.0</td>\n",
       "      <td>343000.0</td>\n",
       "      <td>220000.0</td>\n",
       "      <td>332050.00</td>\n",
       "      <td>1.750</td>\n",
       "      <td>355150.00</td>\n",
       "      <td>355150.00</td>\n",
       "      <td>2021-08-18</td>\n",
       "      <td>2021-08-28</td>\n",
       "    </tr>\n",
       "    <tr>\n",
       "      <th>1</th>\n",
       "      <td>54200000132.0</td>\n",
       "      <td>1</td>\n",
       "      <td>8.0</td>\n",
       "      <td>10.0</td>\n",
       "      <td>5613.0</td>\n",
       "      <td>5190.0</td>\n",
       "      <td>5334.75</td>\n",
       "      <td>1.000</td>\n",
       "      <td>1406.25</td>\n",
       "      <td>1406.25</td>\n",
       "      <td>2021-08-24</td>\n",
       "      <td>2021-08-24</td>\n",
       "    </tr>\n",
       "    <tr>\n",
       "      <th>2</th>\n",
       "      <td>54200000408.0</td>\n",
       "      <td>1</td>\n",
       "      <td>8.0</td>\n",
       "      <td>57.0</td>\n",
       "      <td>17952.0</td>\n",
       "      <td>10000.0</td>\n",
       "      <td>17063.00</td>\n",
       "      <td>1.000</td>\n",
       "      <td>15873.75</td>\n",
       "      <td>15873.75</td>\n",
       "      <td>2021-08-24</td>\n",
       "      <td>2021-08-30</td>\n",
       "    </tr>\n",
       "    <tr>\n",
       "      <th>3</th>\n",
       "      <td>54200000862.0</td>\n",
       "      <td>1</td>\n",
       "      <td>8.0</td>\n",
       "      <td>8.0</td>\n",
       "      <td>5820.0</td>\n",
       "      <td>120.0</td>\n",
       "      <td>5531.25</td>\n",
       "      <td>1.000</td>\n",
       "      <td>120.00</td>\n",
       "      <td>120.00</td>\n",
       "      <td>2021-08-24</td>\n",
       "      <td>2021-08-24</td>\n",
       "    </tr>\n",
       "    <tr>\n",
       "      <th>4</th>\n",
       "      <td>54200000876.0</td>\n",
       "      <td>2</td>\n",
       "      <td>3.0</td>\n",
       "      <td>3.0</td>\n",
       "      <td>14000.0</td>\n",
       "      <td>30000.0</td>\n",
       "      <td>4000.00</td>\n",
       "      <td>0.375</td>\n",
       "      <td>6500.00</td>\n",
       "      <td>6500.00</td>\n",
       "      <td>2021-08-18</td>\n",
       "      <td>2021-07-19</td>\n",
       "    </tr>\n",
       "  </tbody>\n",
       "</table>\n",
       "</div>"
      ],
      "text/plain": [
       "          CIF_ID  NUMBER_OF_TRANSACTIONAL_ACCOUNTS  COUNT_OF_CREDITS  \\\n",
       "0  54200000006.0                                 1              14.0   \n",
       "1  54200000132.0                                 1               8.0   \n",
       "2  54200000408.0                                 1               8.0   \n",
       "3  54200000862.0                                 1               8.0   \n",
       "4  54200000876.0                                 2               3.0   \n",
       "\n",
       "   COUNT_OF_DEBITS  MAX_CREDIT_VALUE  MAX_DEBIT_VALUE  AVERAGE_MONTHLY_CREDIT  \\\n",
       "0             25.0          343000.0         220000.0               332050.00   \n",
       "1             10.0            5613.0           5190.0                 5334.75   \n",
       "2             57.0           17952.0          10000.0                17063.00   \n",
       "3              8.0            5820.0            120.0                 5531.25   \n",
       "4              3.0           14000.0          30000.0                 4000.00   \n",
       "\n",
       "   AVERAGE_MONTHLY_CREDIT_COUNT  AVERAGE_MONTHLY_DEBIT  \\\n",
       "0                         1.750              355150.00   \n",
       "1                         1.000                1406.25   \n",
       "2                         1.000               15873.75   \n",
       "3                         1.000                 120.00   \n",
       "4                         0.375                6500.00   \n",
       "\n",
       "   AVERAGE_MONTHLY_DEBIT.1 MAX_DAY_CREDIT MAX_DAY_DEBIT  \n",
       "0                355150.00     2021-08-18    2021-08-28  \n",
       "1                  1406.25     2021-08-24    2021-08-24  \n",
       "2                 15873.75     2021-08-24    2021-08-30  \n",
       "3                   120.00     2021-08-24    2021-08-24  \n",
       "4                  6500.00     2021-08-18    2021-07-19  "
      ]
     },
     "execution_count": 67,
     "metadata": {},
     "output_type": "execute_result"
    }
   ],
   "source": [
    "df.head()"
   ]
  },
  {
   "cell_type": "code",
   "execution_count": 69,
   "metadata": {},
   "outputs": [],
   "source": [
    "#df = df.drop(\"Unnamed: 0\",axis=1)\n",
    "#df.info()"
   ]
  },
  {
   "cell_type": "code",
   "execution_count": 87,
   "metadata": {},
   "outputs": [
    {
     "data": {
      "text/plain": [
       "CIF_ID                              0\n",
       "NUMBER_OF_TRANSACTIONAL_ACCOUNTS    0\n",
       "COUNT_OF_CREDITS                    0\n",
       "COUNT_OF_DEBITS                     0\n",
       "MAX_CREDIT_VALUE                    0\n",
       "MAX_DEBIT_VALUE                     0\n",
       "AVERAGE_MONTHLY_CREDIT              0\n",
       "AVERAGE_MONTHLY_CREDIT_COUNT        0\n",
       "AVERAGE_MONTHLY_DEBIT               0\n",
       "AVERAGE_MONTHLY_DEBIT.1             0\n",
       "MAX_DAY_CREDIT                      0\n",
       "MAX_DAY_DEBIT                       0\n",
       "dtype: int64"
      ]
     },
     "execution_count": 87,
     "metadata": {},
     "output_type": "execute_result"
    }
   ],
   "source": [
    "df.isnull().sum()"
   ]
  },
  {
   "cell_type": "code",
   "execution_count": 90,
   "metadata": {},
   "outputs": [],
   "source": [
    "# fill numerical null values with 0\n",
    "numerical_features = [ 'NUMBER_OF_TRANSACTIONAL_ACCOUNTS','COUNT_OF_CREDITS','COUNT_OF_DEBITS','MAX_CREDIT_VALUE','MAX_DEBIT_VALUE',\n",
    "                      'AVERAGE_MONTHLY_CREDIT','AVERAGE_MONTHLY_CREDIT_COUNT','AVERAGE_MONTHLY_DEBIT',\n",
    "                      'AVERAGE_MONTHLY_DEBIT.1','MAX_DAY_CREDIT','MAX_DAY_DEBIT']\n",
    "      \n",
    "\n",
    "df[numerical_features] = df[numerical_features].fillna(0)"
   ]
  },
  {
   "cell_type": "markdown",
   "metadata": {},
   "source": [
    "# Cleaning and feature extraction of demographic data"
   ]
  },
  {
   "cell_type": "code",
   "execution_count": 33,
   "metadata": {},
   "outputs": [
    {
     "data": {
      "text/html": [
       "<div>\n",
       "<style scoped>\n",
       "    .dataframe tbody tr th:only-of-type {\n",
       "        vertical-align: middle;\n",
       "    }\n",
       "\n",
       "    .dataframe tbody tr th {\n",
       "        vertical-align: top;\n",
       "    }\n",
       "\n",
       "    .dataframe thead th {\n",
       "        text-align: right;\n",
       "    }\n",
       "</style>\n",
       "<table border=\"1\" class=\"dataframe\">\n",
       "  <thead>\n",
       "    <tr style=\"text-align: right;\">\n",
       "      <th></th>\n",
       "      <th>CIF_ID</th>\n",
       "      <th>SOL_ID</th>\n",
       "      <th>SALUTATION</th>\n",
       "      <th>GENDER</th>\n",
       "      <th>OCCUPATION</th>\n",
       "      <th>SEGMENTATION_CLASS</th>\n",
       "      <th>REGION</th>\n",
       "      <th>CITY</th>\n",
       "      <th>SECTOR</th>\n",
       "      <th>AGE</th>\n",
       "      <th>NUMBER_OF_MONTHS_SINCE_OPEN</th>\n",
       "      <th>HAS_CARD</th>\n",
       "    </tr>\n",
       "  </thead>\n",
       "  <tbody>\n",
       "    <tr>\n",
       "      <th>0</th>\n",
       "      <td>54200054734</td>\n",
       "      <td>002</td>\n",
       "      <td>MR</td>\n",
       "      <td>M</td>\n",
       "      <td>NaN</td>\n",
       "      <td>RETAIL</td>\n",
       "      <td>NAI</td>\n",
       "      <td>223</td>\n",
       "      <td>TRADE</td>\n",
       "      <td>56</td>\n",
       "      <td>192.0</td>\n",
       "      <td>Yes</td>\n",
       "    </tr>\n",
       "    <tr>\n",
       "      <th>1</th>\n",
       "      <td>54200109824</td>\n",
       "      <td>017</td>\n",
       "      <td>MR</td>\n",
       "      <td>M</td>\n",
       "      <td>BNESS</td>\n",
       "      <td>RETAIL</td>\n",
       "      <td>NAI</td>\n",
       "      <td>223</td>\n",
       "      <td>CONS</td>\n",
       "      <td>40</td>\n",
       "      <td>192.0</td>\n",
       "      <td>Yes</td>\n",
       "    </tr>\n",
       "    <tr>\n",
       "      <th>2</th>\n",
       "      <td>54200120145</td>\n",
       "      <td>009</td>\n",
       "      <td>MR</td>\n",
       "      <td>M</td>\n",
       "      <td>OTH</td>\n",
       "      <td>RETAIL</td>\n",
       "      <td>CEN</td>\n",
       "      <td>283</td>\n",
       "      <td>F</td>\n",
       "      <td>51</td>\n",
       "      <td>192.0</td>\n",
       "      <td>Yes</td>\n",
       "    </tr>\n",
       "    <tr>\n",
       "      <th>3</th>\n",
       "      <td>54200134805</td>\n",
       "      <td>009</td>\n",
       "      <td>MR</td>\n",
       "      <td>M</td>\n",
       "      <td>NaN</td>\n",
       "      <td>RETAIL</td>\n",
       "      <td>CEN</td>\n",
       "      <td>283</td>\n",
       "      <td>NaN</td>\n",
       "      <td>63</td>\n",
       "      <td>192.0</td>\n",
       "      <td>Yes</td>\n",
       "    </tr>\n",
       "    <tr>\n",
       "      <th>4</th>\n",
       "      <td>54200139749</td>\n",
       "      <td>009</td>\n",
       "      <td>MR</td>\n",
       "      <td>M</td>\n",
       "      <td>OTH</td>\n",
       "      <td>RETAIL</td>\n",
       "      <td>CEN</td>\n",
       "      <td>495</td>\n",
       "      <td>DAIMA</td>\n",
       "      <td>56</td>\n",
       "      <td>192.0</td>\n",
       "      <td>No</td>\n",
       "    </tr>\n",
       "  </tbody>\n",
       "</table>\n",
       "</div>"
      ],
      "text/plain": [
       "        CIF_ID SOL_ID SALUTATION GENDER OCCUPATION SEGMENTATION_CLASS REGION  \\\n",
       "0  54200054734    002         MR      M        NaN             RETAIL    NAI   \n",
       "1  54200109824    017         MR      M      BNESS             RETAIL    NAI   \n",
       "2  54200120145    009         MR      M        OTH             RETAIL    CEN   \n",
       "3  54200134805    009         MR      M        NaN             RETAIL    CEN   \n",
       "4  54200139749    009         MR      M        OTH             RETAIL    CEN   \n",
       "\n",
       "  CITY SECTOR  AGE  NUMBER_OF_MONTHS_SINCE_OPEN HAS_CARD  \n",
       "0  223  TRADE   56                        192.0      Yes  \n",
       "1  223   CONS   40                        192.0      Yes  \n",
       "2  283      F   51                        192.0      Yes  \n",
       "3  283    NaN   63                        192.0      Yes  \n",
       "4  495  DAIMA   56                        192.0       No  "
      ]
     },
     "execution_count": 33,
     "metadata": {},
     "output_type": "execute_result"
    }
   ],
   "source": [
    "demo_summary = pd.read_csv(\"C:/Users/kachase/Downloads/Clustering/Clustering/demographics.csv\")\n",
    "demo_summary.head()"
   ]
  },
  {
   "cell_type": "code",
   "execution_count": 75,
   "metadata": {},
   "outputs": [],
   "source": [
    "\n",
    "demo['CIF_ID'] = demo['CIF_ID'].astype(str)"
   ]
  },
  {
   "cell_type": "code",
   "execution_count": 35,
   "metadata": {},
   "outputs": [
    {
     "data": {
      "text/plain": [
       "200000"
      ]
     },
     "execution_count": 35,
     "metadata": {},
     "output_type": "execute_result"
    }
   ],
   "source": [
    "demo_summary.CIF_ID.nunique()"
   ]
  },
  {
   "cell_type": "code",
   "execution_count": 45,
   "metadata": {},
   "outputs": [
    {
     "data": {
      "text/plain": [
       "186426"
      ]
     },
     "execution_count": 45,
     "metadata": {},
     "output_type": "execute_result"
    }
   ],
   "source": [
    "demo = demo_summary[demo_summary['NUMBER_OF_MONTHS_SINCE_OPEN']>0].reset_index(drop=True)\n",
    "len(demo)"
   ]
  },
  {
   "cell_type": "code",
   "execution_count": 46,
   "metadata": {},
   "outputs": [
    {
     "data": {
      "text/plain": [
       "CIF_ID                             0\n",
       "SOL_ID                             0\n",
       "SALUTATION                         0\n",
       "GENDER                          8902\n",
       "OCCUPATION                     36576\n",
       "SEGMENTATION_CLASS               194\n",
       "REGION                         12083\n",
       "CITY                              26\n",
       "SECTOR                         88296\n",
       "AGE                                0\n",
       "NUMBER_OF_MONTHS_SINCE_OPEN        0\n",
       "HAS_CARD                           0\n",
       "dtype: int64"
      ]
     },
     "execution_count": 46,
     "metadata": {},
     "output_type": "execute_result"
    }
   ],
   "source": [
    "demo.isnull().sum()"
   ]
  },
  {
   "cell_type": "code",
   "execution_count": 48,
   "metadata": {},
   "outputs": [],
   "source": [
    "demo['REGION'].fillna('UNKNOWN', inplace=True)"
   ]
  },
  {
   "cell_type": "code",
   "execution_count": 49,
   "metadata": {},
   "outputs": [],
   "source": [
    "# segmentation class\n",
    "seg_class=['RETAIL', 'BUSINESS', 'AGRIC', 'MICRO', 'CONSM','CORPT','SME', 'INSTIT', 'PUBLI']\n",
    "demo.loc[~demo['SEGMENTATION_CLASS'].isin(seg_class),'SEGMENTATION_CLASS'] = 'OTHERS'"
   ]
  },
  {
   "cell_type": "code",
   "execution_count": 50,
   "metadata": {},
   "outputs": [],
   "source": [
    "demo['GENDER'] =  demo['GENDER'].str.upper()\n",
    "demo.loc[~demo['GENDER'].isin(['F','M']), 'GENDER'] = 'UNKNOWN'"
   ]
  },
  {
   "cell_type": "code",
   "execution_count": 51,
   "metadata": {},
   "outputs": [],
   "source": [
    "# Occupation\n",
    "occ_class=['TECH','STUD','FARM', 'BNESS']\n",
    "demo['OCCUPATION'].unique()\n",
    "demo.loc[~demo['OCCUPATION'].isin(occ_class),'OCCUPATION']='OTHERS'"
   ]
  },
  {
   "cell_type": "code",
   "execution_count": 52,
   "metadata": {},
   "outputs": [],
   "source": [
    "demo.drop(['SECTOR', 'CITY'], axis=1, inplace=True)"
   ]
  },
  {
   "cell_type": "code",
   "execution_count": 53,
   "metadata": {},
   "outputs": [
    {
     "data": {
      "text/plain": [
       "CIF_ID                         0\n",
       "SOL_ID                         0\n",
       "SALUTATION                     0\n",
       "GENDER                         0\n",
       "OCCUPATION                     0\n",
       "SEGMENTATION_CLASS             0\n",
       "REGION                         0\n",
       "AGE                            0\n",
       "NUMBER_OF_MONTHS_SINCE_OPEN    0\n",
       "HAS_CARD                       0\n",
       "dtype: int64"
      ]
     },
     "execution_count": 53,
     "metadata": {},
     "output_type": "execute_result"
    }
   ],
   "source": [
    "demo.isnull().sum()"
   ]
  },
  {
   "cell_type": "code",
   "execution_count": 91,
   "metadata": {},
   "outputs": [],
   "source": [
    "# fill numerical null values with 0\n",
    "numerical_features = ['NUMBER_OF_MONTHS_SINCE_OPEN', 'AGE']\n",
    "      \n",
    "\n",
    "demo[numerical_features] = demo[numerical_features].fillna(0)"
   ]
  },
  {
   "cell_type": "code",
   "execution_count": 72,
   "metadata": {},
   "outputs": [
    {
     "data": {
      "text/plain": [
       "CIF_ID                  object\n",
       "MONTHLY_AVG_BALANCE    float64\n",
       "STD_BALANCE            float64\n",
       "dtype: object"
      ]
     },
     "execution_count": 72,
     "metadata": {},
     "output_type": "execute_result"
    }
   ],
   "source": [
    "eod_agg.dtypes"
   ]
  },
  {
   "cell_type": "code",
   "execution_count": 77,
   "metadata": {},
   "outputs": [
    {
     "data": {
      "text/plain": [
       "CIF_ID                          object\n",
       "SOL_ID                          object\n",
       "SALUTATION                      object\n",
       "GENDER                          object\n",
       "OCCUPATION                      object\n",
       "SEGMENTATION_CLASS              object\n",
       "REGION                          object\n",
       "AGE                              int64\n",
       "NUMBER_OF_MONTHS_SINCE_OPEN    float64\n",
       "HAS_CARD                        object\n",
       "dtype: object"
      ]
     },
     "execution_count": 77,
     "metadata": {},
     "output_type": "execute_result"
    }
   ],
   "source": [
    "demo.dtypes"
   ]
  },
  {
   "cell_type": "code",
   "execution_count": 74,
   "metadata": {},
   "outputs": [
    {
     "data": {
      "text/plain": [
       "CIF_ID                               object\n",
       "NUMBER_OF_TRANSACTIONAL_ACCOUNTS      int64\n",
       "COUNT_OF_CREDITS                    float64\n",
       "COUNT_OF_DEBITS                     float64\n",
       "MAX_CREDIT_VALUE                    float64\n",
       "MAX_DEBIT_VALUE                     float64\n",
       "AVERAGE_MONTHLY_CREDIT              float64\n",
       "AVERAGE_MONTHLY_CREDIT_COUNT        float64\n",
       "AVERAGE_MONTHLY_DEBIT               float64\n",
       "AVERAGE_MONTHLY_DEBIT.1             float64\n",
       "MAX_DAY_CREDIT                       object\n",
       "MAX_DAY_DEBIT                        object\n",
       "dtype: object"
      ]
     },
     "execution_count": 74,
     "metadata": {},
     "output_type": "execute_result"
    }
   ],
   "source": [
    "df.dtypes"
   ]
  },
  {
   "cell_type": "code",
   "execution_count": 80,
   "metadata": {},
   "outputs": [],
   "source": [
    "data  = pd.merge(data,demo, on='CIF_ID', how='left')\n",
    "data  = pd.merge(data, eod_agg, on='CIF_ID', how='left')\n",
    "data  = pd.merge(data, df, on='CIF_ID', how='left')"
   ]
  },
  {
   "cell_type": "code",
   "execution_count": 81,
   "metadata": {},
   "outputs": [
    {
     "data": {
      "text/html": [
       "<div>\n",
       "<style scoped>\n",
       "    .dataframe tbody tr th:only-of-type {\n",
       "        vertical-align: middle;\n",
       "    }\n",
       "\n",
       "    .dataframe tbody tr th {\n",
       "        vertical-align: top;\n",
       "    }\n",
       "\n",
       "    .dataframe thead th {\n",
       "        text-align: right;\n",
       "    }\n",
       "</style>\n",
       "<table border=\"1\" class=\"dataframe\">\n",
       "  <thead>\n",
       "    <tr style=\"text-align: right;\">\n",
       "      <th></th>\n",
       "      <th>CIF_ID</th>\n",
       "      <th>NUMBER_OF_TRANSACTIONAL_ACCOUNTS_x</th>\n",
       "      <th>COUNT_OF_CREDITS_x</th>\n",
       "      <th>COUNT_OF_DEBITS_x</th>\n",
       "      <th>MAX_CREDIT_VALUE_x</th>\n",
       "      <th>MAX_DEBIT_VALUE_x</th>\n",
       "      <th>AVERAGE_MONTHLY_CREDIT_x</th>\n",
       "      <th>AVERAGE_MONTHLY_CREDIT_COUNT_x</th>\n",
       "      <th>AVERAGE_MONTHLY_DEBIT_x</th>\n",
       "      <th>AVERAGE_MONTHLY_DEBIT.1_x</th>\n",
       "      <th>...</th>\n",
       "      <th>COUNT_OF_CREDITS</th>\n",
       "      <th>COUNT_OF_DEBITS</th>\n",
       "      <th>MAX_CREDIT_VALUE</th>\n",
       "      <th>MAX_DEBIT_VALUE</th>\n",
       "      <th>AVERAGE_MONTHLY_CREDIT</th>\n",
       "      <th>AVERAGE_MONTHLY_CREDIT_COUNT</th>\n",
       "      <th>AVERAGE_MONTHLY_DEBIT</th>\n",
       "      <th>AVERAGE_MONTHLY_DEBIT.1</th>\n",
       "      <th>MAX_DAY_CREDIT</th>\n",
       "      <th>MAX_DAY_DEBIT</th>\n",
       "    </tr>\n",
       "  </thead>\n",
       "  <tbody>\n",
       "    <tr>\n",
       "      <th>0</th>\n",
       "      <td>54200000006.0</td>\n",
       "      <td>1</td>\n",
       "      <td>14.0</td>\n",
       "      <td>25.0</td>\n",
       "      <td>343000.0</td>\n",
       "      <td>220000.0</td>\n",
       "      <td>332050.00</td>\n",
       "      <td>1.750</td>\n",
       "      <td>355150.00</td>\n",
       "      <td>355150.00</td>\n",
       "      <td>...</td>\n",
       "      <td>14.0</td>\n",
       "      <td>25.0</td>\n",
       "      <td>343000.0</td>\n",
       "      <td>220000.0</td>\n",
       "      <td>332050.00</td>\n",
       "      <td>1.750</td>\n",
       "      <td>355150.00</td>\n",
       "      <td>355150.00</td>\n",
       "      <td>2021-08-18</td>\n",
       "      <td>2021-08-28</td>\n",
       "    </tr>\n",
       "    <tr>\n",
       "      <th>1</th>\n",
       "      <td>54200000132.0</td>\n",
       "      <td>1</td>\n",
       "      <td>8.0</td>\n",
       "      <td>10.0</td>\n",
       "      <td>5613.0</td>\n",
       "      <td>5190.0</td>\n",
       "      <td>5334.75</td>\n",
       "      <td>1.000</td>\n",
       "      <td>1406.25</td>\n",
       "      <td>1406.25</td>\n",
       "      <td>...</td>\n",
       "      <td>8.0</td>\n",
       "      <td>10.0</td>\n",
       "      <td>5613.0</td>\n",
       "      <td>5190.0</td>\n",
       "      <td>5334.75</td>\n",
       "      <td>1.000</td>\n",
       "      <td>1406.25</td>\n",
       "      <td>1406.25</td>\n",
       "      <td>2021-08-24</td>\n",
       "      <td>2021-08-24</td>\n",
       "    </tr>\n",
       "    <tr>\n",
       "      <th>2</th>\n",
       "      <td>54200000408.0</td>\n",
       "      <td>1</td>\n",
       "      <td>8.0</td>\n",
       "      <td>57.0</td>\n",
       "      <td>17952.0</td>\n",
       "      <td>10000.0</td>\n",
       "      <td>17063.00</td>\n",
       "      <td>1.000</td>\n",
       "      <td>15873.75</td>\n",
       "      <td>15873.75</td>\n",
       "      <td>...</td>\n",
       "      <td>8.0</td>\n",
       "      <td>57.0</td>\n",
       "      <td>17952.0</td>\n",
       "      <td>10000.0</td>\n",
       "      <td>17063.00</td>\n",
       "      <td>1.000</td>\n",
       "      <td>15873.75</td>\n",
       "      <td>15873.75</td>\n",
       "      <td>2021-08-24</td>\n",
       "      <td>2021-08-30</td>\n",
       "    </tr>\n",
       "    <tr>\n",
       "      <th>3</th>\n",
       "      <td>54200000862.0</td>\n",
       "      <td>1</td>\n",
       "      <td>8.0</td>\n",
       "      <td>8.0</td>\n",
       "      <td>5820.0</td>\n",
       "      <td>120.0</td>\n",
       "      <td>5531.25</td>\n",
       "      <td>1.000</td>\n",
       "      <td>120.00</td>\n",
       "      <td>120.00</td>\n",
       "      <td>...</td>\n",
       "      <td>8.0</td>\n",
       "      <td>8.0</td>\n",
       "      <td>5820.0</td>\n",
       "      <td>120.0</td>\n",
       "      <td>5531.25</td>\n",
       "      <td>1.000</td>\n",
       "      <td>120.00</td>\n",
       "      <td>120.00</td>\n",
       "      <td>2021-08-24</td>\n",
       "      <td>2021-08-24</td>\n",
       "    </tr>\n",
       "    <tr>\n",
       "      <th>4</th>\n",
       "      <td>54200000876.0</td>\n",
       "      <td>2</td>\n",
       "      <td>3.0</td>\n",
       "      <td>3.0</td>\n",
       "      <td>14000.0</td>\n",
       "      <td>30000.0</td>\n",
       "      <td>4000.00</td>\n",
       "      <td>0.375</td>\n",
       "      <td>6500.00</td>\n",
       "      <td>6500.00</td>\n",
       "      <td>...</td>\n",
       "      <td>3.0</td>\n",
       "      <td>3.0</td>\n",
       "      <td>14000.0</td>\n",
       "      <td>30000.0</td>\n",
       "      <td>4000.00</td>\n",
       "      <td>0.375</td>\n",
       "      <td>6500.00</td>\n",
       "      <td>6500.00</td>\n",
       "      <td>2021-08-18</td>\n",
       "      <td>2021-07-19</td>\n",
       "    </tr>\n",
       "  </tbody>\n",
       "</table>\n",
       "<p>5 rows × 56 columns</p>\n",
       "</div>"
      ],
      "text/plain": [
       "          CIF_ID  NUMBER_OF_TRANSACTIONAL_ACCOUNTS_x  COUNT_OF_CREDITS_x  \\\n",
       "0  54200000006.0                                   1                14.0   \n",
       "1  54200000132.0                                   1                 8.0   \n",
       "2  54200000408.0                                   1                 8.0   \n",
       "3  54200000862.0                                   1                 8.0   \n",
       "4  54200000876.0                                   2                 3.0   \n",
       "\n",
       "   COUNT_OF_DEBITS_x  MAX_CREDIT_VALUE_x  MAX_DEBIT_VALUE_x  \\\n",
       "0               25.0            343000.0           220000.0   \n",
       "1               10.0              5613.0             5190.0   \n",
       "2               57.0             17952.0            10000.0   \n",
       "3                8.0              5820.0              120.0   \n",
       "4                3.0             14000.0            30000.0   \n",
       "\n",
       "   AVERAGE_MONTHLY_CREDIT_x  AVERAGE_MONTHLY_CREDIT_COUNT_x  \\\n",
       "0                 332050.00                           1.750   \n",
       "1                   5334.75                           1.000   \n",
       "2                  17063.00                           1.000   \n",
       "3                   5531.25                           1.000   \n",
       "4                   4000.00                           0.375   \n",
       "\n",
       "   AVERAGE_MONTHLY_DEBIT_x  AVERAGE_MONTHLY_DEBIT.1_x  ... COUNT_OF_CREDITS  \\\n",
       "0                355150.00                  355150.00  ...             14.0   \n",
       "1                  1406.25                    1406.25  ...              8.0   \n",
       "2                 15873.75                   15873.75  ...              8.0   \n",
       "3                   120.00                     120.00  ...              8.0   \n",
       "4                  6500.00                    6500.00  ...              3.0   \n",
       "\n",
       "  COUNT_OF_DEBITS MAX_CREDIT_VALUE MAX_DEBIT_VALUE AVERAGE_MONTHLY_CREDIT  \\\n",
       "0            25.0         343000.0        220000.0              332050.00   \n",
       "1            10.0           5613.0          5190.0                5334.75   \n",
       "2            57.0          17952.0         10000.0               17063.00   \n",
       "3             8.0           5820.0           120.0                5531.25   \n",
       "4             3.0          14000.0         30000.0                4000.00   \n",
       "\n",
       "  AVERAGE_MONTHLY_CREDIT_COUNT AVERAGE_MONTHLY_DEBIT AVERAGE_MONTHLY_DEBIT.1  \\\n",
       "0                        1.750             355150.00               355150.00   \n",
       "1                        1.000               1406.25                 1406.25   \n",
       "2                        1.000              15873.75                15873.75   \n",
       "3                        1.000                120.00                  120.00   \n",
       "4                        0.375               6500.00                 6500.00   \n",
       "\n",
       "   MAX_DAY_CREDIT  MAX_DAY_DEBIT  \n",
       "0      2021-08-18     2021-08-28  \n",
       "1      2021-08-24     2021-08-24  \n",
       "2      2021-08-24     2021-08-30  \n",
       "3      2021-08-24     2021-08-24  \n",
       "4      2021-08-18     2021-07-19  \n",
       "\n",
       "[5 rows x 56 columns]"
      ]
     },
     "execution_count": 81,
     "metadata": {},
     "output_type": "execute_result"
    }
   ],
   "source": [
    "data.head()"
   ]
  },
  {
   "cell_type": "code",
   "execution_count": null,
   "metadata": {},
   "outputs": [],
   "source": []
  },
  {
   "cell_type": "markdown",
   "metadata": {},
   "source": [
    "# standard features"
   ]
  },
  {
   "cell_type": "code",
   "execution_count": 94,
   "metadata": {},
   "outputs": [
    {
     "name": "stdout",
     "output_type": "stream",
     "text": [
      "[]\n"
     ]
    },
    {
     "data": {
      "text/plain": [
       "(153372, 34)"
      ]
     },
     "execution_count": 94,
     "metadata": {},
     "output_type": "execute_result"
    }
   ],
   "source": [
    "#Remove constant features:This is because features with single unique values do not help the model generalize well as they have variance/standard deviation of 0\n",
    "def find_constant_features(dataFrame):\n",
    "    constant = []\n",
    "    for column in list(dataFrame.columns):\n",
    "        if dataFrame[column].unique().size < 2:\n",
    "            constant.append(column)\n",
    "    return constant\n",
    "constant = find_constant_features(data)\n",
    "print(constant)\n",
    "data.drop(constant, axis =1, inplace = True)\n",
    "data.shape"
   ]
  },
  {
   "cell_type": "markdown",
   "metadata": {},
   "source": [
    "E.D.A"
   ]
  },
  {
   "cell_type": "code",
   "execution_count": null,
   "metadata": {},
   "outputs": [],
   "source": []
  }
 ],
 "metadata": {
  "kernelspec": {
   "display_name": "Python 3",
   "language": "python",
   "name": "python3"
  },
  "language_info": {
   "codemirror_mode": {
    "name": "ipython",
    "version": 3
   },
   "file_extension": ".py",
   "mimetype": "text/x-python",
   "name": "python",
   "nbconvert_exporter": "python",
   "pygments_lexer": "ipython3",
   "version": "3.7.3"
  }
 },
 "nbformat": 4,
 "nbformat_minor": 2
}
